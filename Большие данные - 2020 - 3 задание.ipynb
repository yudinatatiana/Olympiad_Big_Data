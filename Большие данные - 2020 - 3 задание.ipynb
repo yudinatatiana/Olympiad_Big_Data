{
 "cells": [
  {
   "cell_type": "markdown",
   "metadata": {},
   "source": [
    "Дата-саентист Кеша решил проверить, насколько названия глав «Алисы в стране чудес» соответветствуют реально происходящим в тексте событиям. Он решил сделать всю необходимую предварительную обработку текста, включая приведение слов к нижнему регистру, удаление стоп-слов, цифр/неалфавитных символов и т. д. После формирования корпуса документов (глав книги) методом TF-IDF он сформировал ранжированные списки наиболее важных для каждой главы слов.\n",
    "\n",
    "Какое слово имеет максимальное значение метрики TF- IDF для двенадцатой главы под названием «Alice’s Evidence» ?\n",
    "\n",
    "Нужно сформировать корпус документов, т.е. выделить главы. Затем, используя tf-idf, определить списки наиболее важных для каждой главы слов. Для 12 главы найти слово, которое имеет максимальное значение данной метрики\n",
    "\n",
    "Предобработка: приведение к нижнему регистру, удаление стоп-слов, цифр, неалфавитных символов"
   ]
  },
  {
   "cell_type": "code",
   "execution_count": 10,
   "metadata": {},
   "outputs": [],
   "source": [
    "import numpy as np\n",
    "import pandas as pd\n",
    "import matplotlib as plt\n",
    "import re\n",
    "from nltk.corpus import stopwords\n",
    "from sklearn.feature_extraction.text import TfidfVectorizer"
   ]
  },
  {
   "cell_type": "code",
   "execution_count": 2,
   "metadata": {},
   "outputs": [
    {
     "data": {
      "text/plain": [
       "13"
      ]
     },
     "execution_count": 2,
     "metadata": {},
     "output_type": "execute_result"
    }
   ],
   "source": [
    "f = open('task.txt', 'r')\n",
    "f = f.read()\n",
    "massiv = f.split('THE END') #Чтобы удалить примечания, которые как раз-таки прилегают к 12ой главе\n",
    "massiv.pop(1)\n",
    "massiv2 = massiv[0].split('CHAPTER') #Разбиваю по главам\n",
    "len(massiv2)"
   ]
  },
  {
   "cell_type": "code",
   "execution_count": 3,
   "metadata": {
    "scrolled": true
   },
   "outputs": [
    {
     "data": {
      "text/plain": [
       "'Project Gutenberg’s Alice’s Adventures in Wonderland, by Lewis Carroll\\n\\nThis eBook is for the use of anyone anywhere at no cost and with\\nalmost no restrictions whatsoever.  You may copy it, give it away or\\nre-use it under the terms of the Project Gutenberg License included\\nwith this eBook or online at www.gutenberg.org\\n\\n\\nTitle: Alice’s Adventures in Wonderland\\n\\nAuthor: Lewis Carroll\\n\\nPosting Date: June 25, 2008 [EBook #11]\\nRelease Date: March, 1994\\nLast Updated: October 6, 2016\\n\\nLanguage: English\\n\\nCharacter set encoding: UTF-8\\n\\n*** START OF THIS PROJECT GUTENBERG EBOOK ALICE’S ADVENTURES IN WONDERLAND ***\\n\\n\\n\\n\\n\\n\\n\\n\\n\\n\\nALICE’S ADVENTURES IN WONDERLAND\\n\\nLewis Carroll\\n\\nTHE MILLENNIUM FULCRUM EDITION 3.0\\n\\n\\n\\n\\n'"
      ]
     },
     "execution_count": 3,
     "metadata": {},
     "output_type": "execute_result"
    }
   ],
   "source": [
    "massiv2.pop(0) #Удаляла первый элемент, ибо там информация по книге, а не реальная глава. В этом массиве теперь только главы. "
   ]
  },
  {
   "cell_type": "code",
   "execution_count": 6,
   "metadata": {},
   "outputs": [],
   "source": [
    "filtered_words = list()\n",
    "for i in range(len(massiv2)):\n",
    "    letters_only = re.sub(\"[^a-zA-Z]\", \" \", massiv2[i])  #удаление стоп-слов, цифр, неалфавитных символов\n",
    "    words = letters_only.lower() #приведение к нижнему регистру\n",
    "    \n",
    "    word_list = words.split()\n",
    "    filtered_word_list = word_list[:] #make a copy of the word_list\n",
    "    for word in word_list: # iterate over word_list\n",
    "        if word in stopwords.words('english'):\n",
    "            filtered_word_list.remove(word)\n",
    "    \n",
    "    full_data = ' '.join(filtered_word_list)\n",
    "    filtered_words.append(full_data) "
   ]
  },
  {
   "cell_type": "code",
   "execution_count": 8,
   "metadata": {},
   "outputs": [
    {
     "data": {
      "text/plain": [
       "12"
      ]
     },
     "execution_count": 8,
     "metadata": {},
     "output_type": "execute_result"
    }
   ],
   "source": [
    "len(filtered_words)"
   ]
  },
  {
   "cell_type": "code",
   "execution_count": 9,
   "metadata": {},
   "outputs": [
    {
     "data": {
      "text/plain": [
       "'xii alice evidence cried alice quite forgetting flurry moment large grown last minutes jumped hurry tipped jury box edge skirt upsetting jurymen heads crowd lay sprawling reminding much globe goldfish accidentally upset week oh beg pardon exclaimed tone great dismay began picking quickly could accident goldfish kept running head vague sort idea must collected put back jury box would die trial cannot proceed said king grave voice jurymen back proper places repeated great emphasis looking hard alice said alice looked jury box saw haste put lizard head downwards poor little thing waving tail melancholy way quite unable move soon got put right signifies much said think would quite much use trial one way soon jury little recovered shock upset slates pencils found handed back set work diligently write history accident except lizard seemed much overcome anything sit mouth open gazing roof court know business king said alice nothing said alice nothing whatever persisted king nothing whatever said alice important king said turning jury beginning write slates white rabbit interrupted unimportant majesty means course said respectful tone frowning making faces spoke unimportant course meant king hastily said went undertone important unimportant unimportant important trying word sounded best jury wrote important unimportant alice could see near enough look slates matter bit thought moment king time busily writing note book cackled silence read book rule forty two persons mile high leave court everybody looked alice mile high said alice said king nearly two miles high added queen well go rate said alice besides regular rule invented oldest rule book said king ought number one said alice king turned pale shut note book hastily consider verdict said jury low trembling voice evidence come yet please majesty said white rabbit jumping great hurry paper picked said queen opened yet said white rabbit seems letter written prisoner somebody must said king unless written nobody usual know directed said one jurymen directed said white rabbit fact nothing written outside unfolded paper spoke added letter set verses prisoner handwriting asked another jurymen said white rabbit queerest thing jury looked puzzled must imitated somebody else hand said king jury brightened please majesty said knave write prove name signed end sign said king makes matter worse must meant mischief else signed name like honest man general clapping hands first really clever thing king said day proves guilt said queen proves nothing sort said alice even know read said king white rabbit put spectacles shall begin please majesty asked begin beginning king said gravely go till come end stop verses white rabbit read told mentioned gave good character said could swim sent word gone know true push matter would become gave one gave two gave us three returned though mine chance involved affair trusts set free exactly notion fit obstacle came let know liked best must ever secret kept rest important piece evidence heard yet said king rubbing hands let jury one explain said alice grown large last minutes bit afraid interrupting give sixpence believe atom meaning jury wrote slates believe atom meaning none attempted explain paper meaning said king saves world trouble know try find yet know went spreading verses knee looking one eye seem see meaning said could swim swim added turning knave knave shook head sadly look like said certainly made entirely cardboard right far said king went muttering verses know true jury course gave one gave two must tarts know goes returned said alice said king triumphantly pointing tarts table nothing clearer fit never fits dear think said queen never said queen furiously throwing inkstand lizard spoke unfortunate little bill left writing slate one finger found made mark hastily began using ink trickling face long lasted words fit said king looking round court smile dead silence pun king added offended tone everybody laughed let jury consider verdict king said twentieth time day said queen sentence first verdict afterwards stuff nonsense said alice loudly idea sentence first hold tongue said queen turning purple said alice head queen shouted top voice nobody moved cares said alice grown full size time nothing pack cards whole pack rose air came flying upon gave little scream half fright half anger tried beat found lying bank head lap sister gently brushing away dead leaves fluttered trees upon face wake alice dear said sister long sleep oh curious dream said alice told sister well could remember strange adventures reading finished sister kissed said curious dream dear certainly run tea getting late alice got ran thinking ran well might wonderful dream sister sat still left leaning head hand watching setting sun thinking little alice wonderful adventures till began dreaming fashion dream first dreamed little alice tiny hands clasped upon knee bright eager eyes looking could hear tones voice see queer little toss head keep back wandering hair would always get eyes still listened seemed listen whole place around became alive strange creatures little sister dream long grass rustled feet white rabbit hurried frightened mouse splashed way neighbouring pool could hear rattle teacups march hare friends shared never ending meal shrill voice queen ordering unfortunate guests execution pig baby sneezing duchess knee plates dishes crashed around shriek gryphon squeaking lizard slate pencil choking suppressed guinea pigs filled air mixed distant sobs miserable mock turtle sat closed eyes half believed wonderland though knew open would change dull reality grass would rustling wind pool rippling waving reeds rattling teacups would change tinkling sheep bells queen shrill cries voice shepherd boy sneeze baby shriek gryphon queer noises would change knew confused clamour busy farm yard lowing cattle distance would take place mock turtle heavy sobs lastly pictured little sister would time grown woman would keep riper years simple loving heart childhood would gather little children make eyes bright eager many strange tale perhaps even dream wonderland long ago would feel simple sorrows find pleasure simple joys remembering child life happy summer days'"
      ]
     },
     "execution_count": 9,
     "metadata": {},
     "output_type": "execute_result"
    }
   ],
   "source": [
    "filtered_words[11] #11ый индекс - 12ая глава"
   ]
  },
  {
   "cell_type": "code",
   "execution_count": 11,
   "metadata": {},
   "outputs": [
    {
     "data": {
      "text/html": [
       "<div>\n",
       "<style scoped>\n",
       "    .dataframe tbody tr th:only-of-type {\n",
       "        vertical-align: middle;\n",
       "    }\n",
       "\n",
       "    .dataframe tbody tr th {\n",
       "        vertical-align: top;\n",
       "    }\n",
       "\n",
       "    .dataframe thead th {\n",
       "        text-align: right;\n",
       "    }\n",
       "</style>\n",
       "<table border=\"1\" class=\"dataframe\">\n",
       "  <thead>\n",
       "    <tr style=\"text-align: right;\">\n",
       "      <th></th>\n",
       "      <th>abide</th>\n",
       "      <th>able</th>\n",
       "      <th>absence</th>\n",
       "      <th>absurd</th>\n",
       "      <th>acceptance</th>\n",
       "      <th>accident</th>\n",
       "      <th>accidentally</th>\n",
       "      <th>account</th>\n",
       "      <th>accounting</th>\n",
       "      <th>accounts</th>\n",
       "      <th>...</th>\n",
       "      <th>yelled</th>\n",
       "      <th>yelp</th>\n",
       "      <th>yer</th>\n",
       "      <th>yes</th>\n",
       "      <th>yesterday</th>\n",
       "      <th>yet</th>\n",
       "      <th>young</th>\n",
       "      <th>youth</th>\n",
       "      <th>zealand</th>\n",
       "      <th>zigzag</th>\n",
       "    </tr>\n",
       "  </thead>\n",
       "  <tbody>\n",
       "    <tr>\n",
       "      <th>0</th>\n",
       "      <td>0.000000</td>\n",
       "      <td>0.000000</td>\n",
       "      <td>0.000000</td>\n",
       "      <td>0.000000</td>\n",
       "      <td>0.000000</td>\n",
       "      <td>0.00000</td>\n",
       "      <td>0.000000</td>\n",
       "      <td>0.000000</td>\n",
       "      <td>0.000000</td>\n",
       "      <td>0.000000</td>\n",
       "      <td>...</td>\n",
       "      <td>0.000000</td>\n",
       "      <td>0.000000</td>\n",
       "      <td>0.000000</td>\n",
       "      <td>0.016140</td>\n",
       "      <td>0.000000</td>\n",
       "      <td>0.000000</td>\n",
       "      <td>0.000000</td>\n",
       "      <td>0.000000</td>\n",
       "      <td>0.031202</td>\n",
       "      <td>0.000000</td>\n",
       "    </tr>\n",
       "    <tr>\n",
       "      <th>1</th>\n",
       "      <td>0.000000</td>\n",
       "      <td>0.030131</td>\n",
       "      <td>0.000000</td>\n",
       "      <td>0.000000</td>\n",
       "      <td>0.000000</td>\n",
       "      <td>0.00000</td>\n",
       "      <td>0.000000</td>\n",
       "      <td>0.000000</td>\n",
       "      <td>0.000000</td>\n",
       "      <td>0.000000</td>\n",
       "      <td>...</td>\n",
       "      <td>0.000000</td>\n",
       "      <td>0.000000</td>\n",
       "      <td>0.000000</td>\n",
       "      <td>0.000000</td>\n",
       "      <td>0.022858</td>\n",
       "      <td>0.013245</td>\n",
       "      <td>0.000000</td>\n",
       "      <td>0.000000</td>\n",
       "      <td>0.000000</td>\n",
       "      <td>0.000000</td>\n",
       "    </tr>\n",
       "    <tr>\n",
       "      <th>2</th>\n",
       "      <td>0.000000</td>\n",
       "      <td>0.000000</td>\n",
       "      <td>0.000000</td>\n",
       "      <td>0.025922</td>\n",
       "      <td>0.030184</td>\n",
       "      <td>0.00000</td>\n",
       "      <td>0.000000</td>\n",
       "      <td>0.000000</td>\n",
       "      <td>0.000000</td>\n",
       "      <td>0.000000</td>\n",
       "      <td>...</td>\n",
       "      <td>0.000000</td>\n",
       "      <td>0.000000</td>\n",
       "      <td>0.000000</td>\n",
       "      <td>0.015613</td>\n",
       "      <td>0.000000</td>\n",
       "      <td>0.000000</td>\n",
       "      <td>0.020553</td>\n",
       "      <td>0.000000</td>\n",
       "      <td>0.000000</td>\n",
       "      <td>0.000000</td>\n",
       "    </tr>\n",
       "    <tr>\n",
       "      <th>3</th>\n",
       "      <td>0.000000</td>\n",
       "      <td>0.000000</td>\n",
       "      <td>0.000000</td>\n",
       "      <td>0.000000</td>\n",
       "      <td>0.000000</td>\n",
       "      <td>0.00000</td>\n",
       "      <td>0.000000</td>\n",
       "      <td>0.000000</td>\n",
       "      <td>0.000000</td>\n",
       "      <td>0.000000</td>\n",
       "      <td>...</td>\n",
       "      <td>0.000000</td>\n",
       "      <td>0.024786</td>\n",
       "      <td>0.099143</td>\n",
       "      <td>0.000000</td>\n",
       "      <td>0.000000</td>\n",
       "      <td>0.043581</td>\n",
       "      <td>0.000000</td>\n",
       "      <td>0.000000</td>\n",
       "      <td>0.000000</td>\n",
       "      <td>0.000000</td>\n",
       "    </tr>\n",
       "    <tr>\n",
       "      <th>4</th>\n",
       "      <td>0.000000</td>\n",
       "      <td>0.000000</td>\n",
       "      <td>0.000000</td>\n",
       "      <td>0.000000</td>\n",
       "      <td>0.000000</td>\n",
       "      <td>0.00000</td>\n",
       "      <td>0.000000</td>\n",
       "      <td>0.000000</td>\n",
       "      <td>0.000000</td>\n",
       "      <td>0.000000</td>\n",
       "      <td>...</td>\n",
       "      <td>0.000000</td>\n",
       "      <td>0.000000</td>\n",
       "      <td>0.000000</td>\n",
       "      <td>0.000000</td>\n",
       "      <td>0.000000</td>\n",
       "      <td>0.051310</td>\n",
       "      <td>0.015897</td>\n",
       "      <td>0.140071</td>\n",
       "      <td>0.000000</td>\n",
       "      <td>0.023345</td>\n",
       "    </tr>\n",
       "    <tr>\n",
       "      <th>5</th>\n",
       "      <td>0.021394</td>\n",
       "      <td>0.000000</td>\n",
       "      <td>0.000000</td>\n",
       "      <td>0.018373</td>\n",
       "      <td>0.000000</td>\n",
       "      <td>0.00000</td>\n",
       "      <td>0.000000</td>\n",
       "      <td>0.000000</td>\n",
       "      <td>0.000000</td>\n",
       "      <td>0.000000</td>\n",
       "      <td>...</td>\n",
       "      <td>0.000000</td>\n",
       "      <td>0.000000</td>\n",
       "      <td>0.000000</td>\n",
       "      <td>0.000000</td>\n",
       "      <td>0.000000</td>\n",
       "      <td>0.009404</td>\n",
       "      <td>0.000000</td>\n",
       "      <td>0.000000</td>\n",
       "      <td>0.000000</td>\n",
       "      <td>0.000000</td>\n",
       "    </tr>\n",
       "    <tr>\n",
       "      <th>6</th>\n",
       "      <td>0.000000</td>\n",
       "      <td>0.000000</td>\n",
       "      <td>0.000000</td>\n",
       "      <td>0.000000</td>\n",
       "      <td>0.000000</td>\n",
       "      <td>0.00000</td>\n",
       "      <td>0.000000</td>\n",
       "      <td>0.000000</td>\n",
       "      <td>0.000000</td>\n",
       "      <td>0.017383</td>\n",
       "      <td>...</td>\n",
       "      <td>0.000000</td>\n",
       "      <td>0.000000</td>\n",
       "      <td>0.000000</td>\n",
       "      <td>0.026976</td>\n",
       "      <td>0.000000</td>\n",
       "      <td>0.022924</td>\n",
       "      <td>0.011837</td>\n",
       "      <td>0.000000</td>\n",
       "      <td>0.000000</td>\n",
       "      <td>0.000000</td>\n",
       "    </tr>\n",
       "    <tr>\n",
       "      <th>7</th>\n",
       "      <td>0.000000</td>\n",
       "      <td>0.000000</td>\n",
       "      <td>0.000000</td>\n",
       "      <td>0.000000</td>\n",
       "      <td>0.000000</td>\n",
       "      <td>0.00000</td>\n",
       "      <td>0.000000</td>\n",
       "      <td>0.021592</td>\n",
       "      <td>0.000000</td>\n",
       "      <td>0.000000</td>\n",
       "      <td>...</td>\n",
       "      <td>0.000000</td>\n",
       "      <td>0.000000</td>\n",
       "      <td>0.000000</td>\n",
       "      <td>0.022337</td>\n",
       "      <td>0.016380</td>\n",
       "      <td>0.009491</td>\n",
       "      <td>0.000000</td>\n",
       "      <td>0.000000</td>\n",
       "      <td>0.000000</td>\n",
       "      <td>0.000000</td>\n",
       "    </tr>\n",
       "    <tr>\n",
       "      <th>8</th>\n",
       "      <td>0.000000</td>\n",
       "      <td>0.000000</td>\n",
       "      <td>0.019137</td>\n",
       "      <td>0.000000</td>\n",
       "      <td>0.000000</td>\n",
       "      <td>0.00000</td>\n",
       "      <td>0.000000</td>\n",
       "      <td>0.000000</td>\n",
       "      <td>0.000000</td>\n",
       "      <td>0.000000</td>\n",
       "      <td>...</td>\n",
       "      <td>0.000000</td>\n",
       "      <td>0.000000</td>\n",
       "      <td>0.000000</td>\n",
       "      <td>0.029698</td>\n",
       "      <td>0.000000</td>\n",
       "      <td>0.016824</td>\n",
       "      <td>0.026062</td>\n",
       "      <td>0.000000</td>\n",
       "      <td>0.000000</td>\n",
       "      <td>0.000000</td>\n",
       "    </tr>\n",
       "    <tr>\n",
       "      <th>9</th>\n",
       "      <td>0.000000</td>\n",
       "      <td>0.000000</td>\n",
       "      <td>0.000000</td>\n",
       "      <td>0.000000</td>\n",
       "      <td>0.000000</td>\n",
       "      <td>0.00000</td>\n",
       "      <td>0.000000</td>\n",
       "      <td>0.000000</td>\n",
       "      <td>0.017593</td>\n",
       "      <td>0.000000</td>\n",
       "      <td>...</td>\n",
       "      <td>0.017593</td>\n",
       "      <td>0.000000</td>\n",
       "      <td>0.000000</td>\n",
       "      <td>0.018201</td>\n",
       "      <td>0.013347</td>\n",
       "      <td>0.000000</td>\n",
       "      <td>0.000000</td>\n",
       "      <td>0.000000</td>\n",
       "      <td>0.000000</td>\n",
       "      <td>0.000000</td>\n",
       "    </tr>\n",
       "    <tr>\n",
       "      <th>10</th>\n",
       "      <td>0.000000</td>\n",
       "      <td>0.000000</td>\n",
       "      <td>0.000000</td>\n",
       "      <td>0.000000</td>\n",
       "      <td>0.000000</td>\n",
       "      <td>0.00000</td>\n",
       "      <td>0.000000</td>\n",
       "      <td>0.000000</td>\n",
       "      <td>0.000000</td>\n",
       "      <td>0.000000</td>\n",
       "      <td>...</td>\n",
       "      <td>0.000000</td>\n",
       "      <td>0.000000</td>\n",
       "      <td>0.000000</td>\n",
       "      <td>0.011711</td>\n",
       "      <td>0.000000</td>\n",
       "      <td>0.039808</td>\n",
       "      <td>0.000000</td>\n",
       "      <td>0.000000</td>\n",
       "      <td>0.000000</td>\n",
       "      <td>0.000000</td>\n",
       "    </tr>\n",
       "    <tr>\n",
       "      <th>11</th>\n",
       "      <td>0.000000</td>\n",
       "      <td>0.000000</td>\n",
       "      <td>0.000000</td>\n",
       "      <td>0.000000</td>\n",
       "      <td>0.000000</td>\n",
       "      <td>0.05027</td>\n",
       "      <td>0.025135</td>\n",
       "      <td>0.000000</td>\n",
       "      <td>0.000000</td>\n",
       "      <td>0.000000</td>\n",
       "      <td>...</td>\n",
       "      <td>0.000000</td>\n",
       "      <td>0.000000</td>\n",
       "      <td>0.000000</td>\n",
       "      <td>0.000000</td>\n",
       "      <td>0.000000</td>\n",
       "      <td>0.044195</td>\n",
       "      <td>0.000000</td>\n",
       "      <td>0.000000</td>\n",
       "      <td>0.000000</td>\n",
       "      <td>0.000000</td>\n",
       "    </tr>\n",
       "  </tbody>\n",
       "</table>\n",
       "<p>12 rows × 2415 columns</p>\n",
       "</div>"
      ],
      "text/plain": [
       "       abide      able   absence    absurd  acceptance  accident  \\\n",
       "0   0.000000  0.000000  0.000000  0.000000    0.000000   0.00000   \n",
       "1   0.000000  0.030131  0.000000  0.000000    0.000000   0.00000   \n",
       "2   0.000000  0.000000  0.000000  0.025922    0.030184   0.00000   \n",
       "3   0.000000  0.000000  0.000000  0.000000    0.000000   0.00000   \n",
       "4   0.000000  0.000000  0.000000  0.000000    0.000000   0.00000   \n",
       "5   0.021394  0.000000  0.000000  0.018373    0.000000   0.00000   \n",
       "6   0.000000  0.000000  0.000000  0.000000    0.000000   0.00000   \n",
       "7   0.000000  0.000000  0.000000  0.000000    0.000000   0.00000   \n",
       "8   0.000000  0.000000  0.019137  0.000000    0.000000   0.00000   \n",
       "9   0.000000  0.000000  0.000000  0.000000    0.000000   0.00000   \n",
       "10  0.000000  0.000000  0.000000  0.000000    0.000000   0.00000   \n",
       "11  0.000000  0.000000  0.000000  0.000000    0.000000   0.05027   \n",
       "\n",
       "    accidentally   account  accounting  accounts  ...    yelled      yelp  \\\n",
       "0       0.000000  0.000000    0.000000  0.000000  ...  0.000000  0.000000   \n",
       "1       0.000000  0.000000    0.000000  0.000000  ...  0.000000  0.000000   \n",
       "2       0.000000  0.000000    0.000000  0.000000  ...  0.000000  0.000000   \n",
       "3       0.000000  0.000000    0.000000  0.000000  ...  0.000000  0.024786   \n",
       "4       0.000000  0.000000    0.000000  0.000000  ...  0.000000  0.000000   \n",
       "5       0.000000  0.000000    0.000000  0.000000  ...  0.000000  0.000000   \n",
       "6       0.000000  0.000000    0.000000  0.017383  ...  0.000000  0.000000   \n",
       "7       0.000000  0.021592    0.000000  0.000000  ...  0.000000  0.000000   \n",
       "8       0.000000  0.000000    0.000000  0.000000  ...  0.000000  0.000000   \n",
       "9       0.000000  0.000000    0.017593  0.000000  ...  0.017593  0.000000   \n",
       "10      0.000000  0.000000    0.000000  0.000000  ...  0.000000  0.000000   \n",
       "11      0.025135  0.000000    0.000000  0.000000  ...  0.000000  0.000000   \n",
       "\n",
       "         yer       yes  yesterday       yet     young     youth   zealand  \\\n",
       "0   0.000000  0.016140   0.000000  0.000000  0.000000  0.000000  0.031202   \n",
       "1   0.000000  0.000000   0.022858  0.013245  0.000000  0.000000  0.000000   \n",
       "2   0.000000  0.015613   0.000000  0.000000  0.020553  0.000000  0.000000   \n",
       "3   0.099143  0.000000   0.000000  0.043581  0.000000  0.000000  0.000000   \n",
       "4   0.000000  0.000000   0.000000  0.051310  0.015897  0.140071  0.000000   \n",
       "5   0.000000  0.000000   0.000000  0.009404  0.000000  0.000000  0.000000   \n",
       "6   0.000000  0.026976   0.000000  0.022924  0.011837  0.000000  0.000000   \n",
       "7   0.000000  0.022337   0.016380  0.009491  0.000000  0.000000  0.000000   \n",
       "8   0.000000  0.029698   0.000000  0.016824  0.026062  0.000000  0.000000   \n",
       "9   0.000000  0.018201   0.013347  0.000000  0.000000  0.000000  0.000000   \n",
       "10  0.000000  0.011711   0.000000  0.039808  0.000000  0.000000  0.000000   \n",
       "11  0.000000  0.000000   0.000000  0.044195  0.000000  0.000000  0.000000   \n",
       "\n",
       "      zigzag  \n",
       "0   0.000000  \n",
       "1   0.000000  \n",
       "2   0.000000  \n",
       "3   0.000000  \n",
       "4   0.023345  \n",
       "5   0.000000  \n",
       "6   0.000000  \n",
       "7   0.000000  \n",
       "8   0.000000  \n",
       "9   0.000000  \n",
       "10  0.000000  \n",
       "11  0.000000  \n",
       "\n",
       "[12 rows x 2415 columns]"
      ]
     },
     "execution_count": 11,
     "metadata": {},
     "output_type": "execute_result"
    }
   ],
   "source": [
    "tfidf_vectorizer = TfidfVectorizer()\n",
    "values = tfidf_vectorizer.fit_transform(filtered_words)\n",
    "\n",
    "feature_names = tfidf_vectorizer.get_feature_names()\n",
    "result = pd.DataFrame(values.toarray(), columns = feature_names)\n",
    "result"
   ]
  },
  {
   "cell_type": "code",
   "execution_count": 12,
   "metadata": {},
   "outputs": [
    {
     "data": {
      "text/plain": [
       "(12, 2415)"
      ]
     },
     "execution_count": 12,
     "metadata": {},
     "output_type": "execute_result"
    }
   ],
   "source": [
    "result.shape"
   ]
  },
  {
   "cell_type": "code",
   "execution_count": 13,
   "metadata": {},
   "outputs": [],
   "source": [
    "df = pd.DataFrame(result.loc[[11]]) #Таблица со словами для 12 главы"
   ]
  },
  {
   "cell_type": "code",
   "execution_count": 14,
   "metadata": {},
   "outputs": [
    {
     "data": {
      "text/html": [
       "<div>\n",
       "<style scoped>\n",
       "    .dataframe tbody tr th:only-of-type {\n",
       "        vertical-align: middle;\n",
       "    }\n",
       "\n",
       "    .dataframe tbody tr th {\n",
       "        vertical-align: top;\n",
       "    }\n",
       "\n",
       "    .dataframe thead th {\n",
       "        text-align: right;\n",
       "    }\n",
       "</style>\n",
       "<table border=\"1\" class=\"dataframe\">\n",
       "  <thead>\n",
       "    <tr style=\"text-align: right;\">\n",
       "      <th></th>\n",
       "      <th>abide</th>\n",
       "      <th>able</th>\n",
       "      <th>absence</th>\n",
       "      <th>absurd</th>\n",
       "      <th>acceptance</th>\n",
       "      <th>accident</th>\n",
       "      <th>accidentally</th>\n",
       "      <th>account</th>\n",
       "      <th>accounting</th>\n",
       "      <th>accounts</th>\n",
       "      <th>...</th>\n",
       "      <th>yelled</th>\n",
       "      <th>yelp</th>\n",
       "      <th>yer</th>\n",
       "      <th>yes</th>\n",
       "      <th>yesterday</th>\n",
       "      <th>yet</th>\n",
       "      <th>young</th>\n",
       "      <th>youth</th>\n",
       "      <th>zealand</th>\n",
       "      <th>zigzag</th>\n",
       "    </tr>\n",
       "  </thead>\n",
       "  <tbody>\n",
       "    <tr>\n",
       "      <th>11</th>\n",
       "      <td>0.0</td>\n",
       "      <td>0.0</td>\n",
       "      <td>0.0</td>\n",
       "      <td>0.0</td>\n",
       "      <td>0.0</td>\n",
       "      <td>0.05027</td>\n",
       "      <td>0.025135</td>\n",
       "      <td>0.0</td>\n",
       "      <td>0.0</td>\n",
       "      <td>0.0</td>\n",
       "      <td>...</td>\n",
       "      <td>0.0</td>\n",
       "      <td>0.0</td>\n",
       "      <td>0.0</td>\n",
       "      <td>0.0</td>\n",
       "      <td>0.0</td>\n",
       "      <td>0.044195</td>\n",
       "      <td>0.0</td>\n",
       "      <td>0.0</td>\n",
       "      <td>0.0</td>\n",
       "      <td>0.0</td>\n",
       "    </tr>\n",
       "  </tbody>\n",
       "</table>\n",
       "<p>1 rows × 2415 columns</p>\n",
       "</div>"
      ],
      "text/plain": [
       "    abide  able  absence  absurd  acceptance  accident  accidentally  account  \\\n",
       "11    0.0   0.0      0.0     0.0         0.0   0.05027      0.025135      0.0   \n",
       "\n",
       "    accounting  accounts  ...  yelled  yelp  yer  yes  yesterday       yet  \\\n",
       "11         0.0       0.0  ...     0.0   0.0  0.0  0.0        0.0  0.044195   \n",
       "\n",
       "    young  youth  zealand  zigzag  \n",
       "11    0.0    0.0      0.0     0.0  \n",
       "\n",
       "[1 rows x 2415 columns]"
      ]
     },
     "execution_count": 14,
     "metadata": {},
     "output_type": "execute_result"
    }
   ],
   "source": [
    "df.head()"
   ]
  },
  {
   "cell_type": "code",
   "execution_count": 15,
   "metadata": {},
   "outputs": [
    {
     "data": {
      "text/plain": [
       "11    said\n",
       "dtype: object"
      ]
     },
     "execution_count": 15,
     "metadata": {},
     "output_type": "execute_result"
    }
   ],
   "source": [
    "df.idxmax(axis=1)"
   ]
  },
  {
   "cell_type": "code",
   "execution_count": 16,
   "metadata": {},
   "outputs": [
    {
     "data": {
      "text/plain": [
       "11    0.446372\n",
       "Name: said, dtype: float64"
      ]
     },
     "execution_count": 16,
     "metadata": {},
     "output_type": "execute_result"
    }
   ],
   "source": [
    "df['said']"
   ]
  },
  {
   "cell_type": "code",
   "execution_count": 17,
   "metadata": {},
   "outputs": [
    {
     "data": {
      "text/plain": [
       "11    0.376538\n",
       "Name: king, dtype: float64"
      ]
     },
     "execution_count": 17,
     "metadata": {},
     "output_type": "execute_result"
    }
   ],
   "source": [
    "df['king']"
   ]
  },
  {
   "cell_type": "markdown",
   "metadata": {},
   "source": [
    "# Выводы\n",
    "\n",
    "Таким образом, в 12ой главе максимальное значение метрики TF-IDF - это слово said, а не king. Я отдельно проверила для 11ой главы. И вот в этой главе значение метрики максимально для слова king."
   ]
  },
  {
   "cell_type": "code",
   "execution_count": 18,
   "metadata": {},
   "outputs": [
    {
     "data": {
      "text/plain": [
       "10    king\n",
       "dtype: object"
      ]
     },
     "execution_count": 18,
     "metadata": {},
     "output_type": "execute_result"
    }
   ],
   "source": [
    "df2 = pd.DataFrame(result.loc[[10]]) #по названию\n",
    "df2.idxmax(axis=1)"
   ]
  },
  {
   "cell_type": "markdown",
   "metadata": {},
   "source": [
    "# Тестирование гипотезы: считаю вручную"
   ]
  },
  {
   "cell_type": "code",
   "execution_count": 37,
   "metadata": {},
   "outputs": [
    {
     "data": {
      "text/plain": [
       "51"
      ]
     },
     "execution_count": 37,
     "metadata": {},
     "output_type": "execute_result"
    }
   ],
   "source": [
    "filtered_words[11].split().count('said')"
   ]
  },
  {
   "cell_type": "code",
   "execution_count": 38,
   "metadata": {},
   "outputs": [
    {
     "data": {
      "text/plain": [
       "22"
      ]
     },
     "execution_count": 38,
     "metadata": {},
     "output_type": "execute_result"
    }
   ],
   "source": [
    "filtered_words[11].split().count('king')"
   ]
  },
  {
   "cell_type": "code",
   "execution_count": 45,
   "metadata": {},
   "outputs": [
    {
     "data": {
      "text/plain": [
       "TfidfVectorizer(analyzer='word', binary=False, decode_error='strict',\n",
       "                dtype=<class 'numpy.float64'>, encoding='utf-8',\n",
       "                input='content', lowercase=True, max_df=1.0, max_features=None,\n",
       "                min_df=1, ngram_range=(1, 1), norm='l2', preprocessor=None,\n",
       "                smooth_idf=True, stop_words=None, strip_accents=None,\n",
       "                sublinear_tf=False, token_pattern='(?u)\\\\b\\\\w\\\\w+\\\\b',\n",
       "                tokenizer=None, use_idf=True, vocabulary=None)"
      ]
     },
     "execution_count": 45,
     "metadata": {},
     "output_type": "execute_result"
    }
   ],
   "source": [
    "tfidf_vectorizer"
   ]
  },
  {
   "cell_type": "code",
   "execution_count": 39,
   "metadata": {},
   "outputs": [
    {
     "data": {
      "text/plain": [
       "973"
      ]
     },
     "execution_count": 39,
     "metadata": {},
     "output_type": "execute_result"
    }
   ],
   "source": [
    "len(filtered_words[11].split())"
   ]
  },
  {
   "cell_type": "code",
   "execution_count": 46,
   "metadata": {},
   "outputs": [],
   "source": [
    "import numpy as np"
   ]
  },
  {
   "cell_type": "markdown",
   "metadata": {},
   "source": [
    "# Формула без сглаживания, по ней лидирует king"
   ]
  },
  {
   "cell_type": "code",
   "execution_count": 48,
   "metadata": {},
   "outputs": [
    {
     "data": {
      "text/plain": [
       "0.008596759833150393"
      ]
     },
     "execution_count": 48,
     "metadata": {},
     "output_type": "execute_result"
    }
   ],
   "source": [
    "22./ 973 * np.log10( 12/(4+1) )"
   ]
  },
  {
   "cell_type": "code",
   "execution_count": 50,
   "metadata": {},
   "outputs": [
    {
     "data": {
      "text/plain": [
       "-0.0018220631235558147"
      ]
     },
     "execution_count": 50,
     "metadata": {},
     "output_type": "execute_result"
    }
   ],
   "source": [
    "51./ 973 * np.log10( 12/(12+1) )"
   ]
  },
  {
   "cell_type": "markdown",
   "metadata": {},
   "source": [
    "# Формула со сглаживанием после логарифма, как в sklearn: лидирует said"
   ]
  },
  {
   "cell_type": "code",
   "execution_count": 51,
   "metadata": {},
   "outputs": [
    {
     "data": {
      "text/plain": [
       "0.03339842508102012"
      ]
     },
     "execution_count": 51,
     "metadata": {},
     "output_type": "execute_result"
    }
   ],
   "source": [
    "22./ 973 * (np.log10( 12/4 )+1)"
   ]
  },
  {
   "cell_type": "code",
   "execution_count": 52,
   "metadata": {},
   "outputs": [
    {
     "data": {
      "text/plain": [
       "0.052415210688591986"
      ]
     },
     "execution_count": 52,
     "metadata": {},
     "output_type": "execute_result"
    }
   ],
   "source": [
    "51./ 973 * (np.log10( 12/12 )+1)"
   ]
  },
  {
   "cell_type": "markdown",
   "metadata": {},
   "source": [
    "# Вывод: в задании не было указано, какую именно формулу нужно использовать"
   ]
  }
 ],
 "metadata": {
  "kernelspec": {
   "display_name": "Python 3",
   "language": "python",
   "name": "python3"
  },
  "language_info": {
   "codemirror_mode": {
    "name": "ipython",
    "version": 3
   },
   "file_extension": ".py",
   "mimetype": "text/x-python",
   "name": "python",
   "nbconvert_exporter": "python",
   "pygments_lexer": "ipython3",
   "version": "3.6.9"
  }
 },
 "nbformat": 4,
 "nbformat_minor": 2
}
